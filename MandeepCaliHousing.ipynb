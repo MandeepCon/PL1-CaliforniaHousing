{
 "cells": [
  {
   "cell_type": "markdown",
   "id": "57421d12",
   "metadata": {},
   "source": [
    "## Framing the Problem:\n",
    "\n",
    "This research aims to examine the impact of several factors (**median income, population, and number of households**) on the median house value within a certain dataset. We will construct three distinct univariate linear regression models to ascertain the most effective predictor of house prices and to assess the robustness of these associations.\n",
    "\n",
    "After this analysis it will help to buyers for understanding the housing prices. "
   ]
  },
  {
   "cell_type": "markdown",
   "id": "6ffe612a",
   "metadata": {},
   "source": [
    "## Getting the Data\n",
    "I am using the [California Housing Prices Dataset](https://www.kaggle.com/datasets/camnugent/california-housing-prices)\n"
   ]
  },
  {
   "cell_type": "code",
   "execution_count": null,
   "id": "22f4b77d",
   "metadata": {},
   "outputs": [],
   "source": [
    "# importing the required libraries\n",
    "import pandas as pd"
   ]
  },
  {
   "cell_type": "markdown",
   "id": "79654a75",
   "metadata": {},
   "source": []
  }
 ],
 "metadata": {
  "kernelspec": {
   "display_name": "Python 3",
   "language": "python",
   "name": "python3"
  },
  "language_info": {
   "name": "python",
   "version": "3.12.3"
  }
 },
 "nbformat": 4,
 "nbformat_minor": 5
}
