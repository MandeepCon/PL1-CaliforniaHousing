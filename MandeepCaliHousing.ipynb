{
 "cells": [
  {
   "cell_type": "markdown",
   "id": "57421d12",
   "metadata": {},
   "source": [
    "## Framing the Problem:\n",
    "\n",
    "This research aims to examine the impact of several factors (**median income, population, and number of households**) on the median house value within a certain dataset. We will construct three distinct univariate linear regression models to ascertain the most effective predictor of house prices and to assess the robustness of these associations.\n",
    "\n",
    "After this analysis it will help to buyers for understanding the housing prices. "
   ]
  },
  {
   "cell_type": "markdown",
   "id": "6ffe612a",
   "metadata": {},
   "source": [
    "## Getting the Data\n",
    "I am using the [California Housing Prices Dataset](https://www.kaggle.com/datasets/camnugent/california-housing-prices)\n"
   ]
  },
  {
   "cell_type": "code",
   "execution_count": 2,
   "id": "22f4b77d",
   "metadata": {},
   "outputs": [
    {
     "data": {
      "application/vnd.microsoft.datawrangler.viewer.v0+json": {
       "columns": [
        {
         "name": "index",
         "rawType": "int64",
         "type": "integer"
        },
        {
         "name": "longitude",
         "rawType": "float64",
         "type": "float"
        },
        {
         "name": "latitude",
         "rawType": "float64",
         "type": "float"
        },
        {
         "name": "housing_median_age",
         "rawType": "int64",
         "type": "integer"
        },
        {
         "name": "total_rooms",
         "rawType": "int64",
         "type": "integer"
        },
        {
         "name": "total_bedrooms",
         "rawType": "float64",
         "type": "float"
        },
        {
         "name": "population",
         "rawType": "int64",
         "type": "integer"
        },
        {
         "name": "households",
         "rawType": "int64",
         "type": "integer"
        },
        {
         "name": "median_income",
         "rawType": "float64",
         "type": "float"
        },
        {
         "name": "median_house_value",
         "rawType": "int64",
         "type": "integer"
        },
        {
         "name": "ocean_proximity",
         "rawType": "object",
         "type": "string"
        }
       ],
       "ref": "cf66feab-0c9c-48db-9cb8-58857dbd1dc4",
       "rows": [
        [
         "0",
         "-122.23",
         "37.88",
         "41",
         "880",
         "129.0",
         "322",
         "126",
         "8.3252",
         "452600",
         "NEAR BAY"
        ],
        [
         "1",
         "-122.22",
         "37.86",
         "21",
         "7099",
         "1106.0",
         "2401",
         "1138",
         "8.3014",
         "358500",
         "NEAR BAY"
        ],
        [
         "2",
         "-122.24",
         "37.85",
         "52",
         "1467",
         "190.0",
         "496",
         "177",
         "7.2574",
         "352100",
         "NEAR BAY"
        ],
        [
         "3",
         "-122.25",
         "37.85",
         "52",
         "1274",
         "235.0",
         "558",
         "219",
         "5.6431",
         "341300",
         "NEAR BAY"
        ],
        [
         "4",
         "-122.25",
         "37.85",
         "52",
         "1627",
         "280.0",
         "565",
         "259",
         "3.8462",
         "342200",
         "NEAR BAY"
        ]
       ],
       "shape": {
        "columns": 10,
        "rows": 5
       }
      },
      "text/html": [
       "<div>\n",
       "<style scoped>\n",
       "    .dataframe tbody tr th:only-of-type {\n",
       "        vertical-align: middle;\n",
       "    }\n",
       "\n",
       "    .dataframe tbody tr th {\n",
       "        vertical-align: top;\n",
       "    }\n",
       "\n",
       "    .dataframe thead th {\n",
       "        text-align: right;\n",
       "    }\n",
       "</style>\n",
       "<table border=\"1\" class=\"dataframe\">\n",
       "  <thead>\n",
       "    <tr style=\"text-align: right;\">\n",
       "      <th></th>\n",
       "      <th>longitude</th>\n",
       "      <th>latitude</th>\n",
       "      <th>housing_median_age</th>\n",
       "      <th>total_rooms</th>\n",
       "      <th>total_bedrooms</th>\n",
       "      <th>population</th>\n",
       "      <th>households</th>\n",
       "      <th>median_income</th>\n",
       "      <th>median_house_value</th>\n",
       "      <th>ocean_proximity</th>\n",
       "    </tr>\n",
       "  </thead>\n",
       "  <tbody>\n",
       "    <tr>\n",
       "      <th>0</th>\n",
       "      <td>-122.23</td>\n",
       "      <td>37.88</td>\n",
       "      <td>41</td>\n",
       "      <td>880</td>\n",
       "      <td>129.0</td>\n",
       "      <td>322</td>\n",
       "      <td>126</td>\n",
       "      <td>8.3252</td>\n",
       "      <td>452600</td>\n",
       "      <td>NEAR BAY</td>\n",
       "    </tr>\n",
       "    <tr>\n",
       "      <th>1</th>\n",
       "      <td>-122.22</td>\n",
       "      <td>37.86</td>\n",
       "      <td>21</td>\n",
       "      <td>7099</td>\n",
       "      <td>1106.0</td>\n",
       "      <td>2401</td>\n",
       "      <td>1138</td>\n",
       "      <td>8.3014</td>\n",
       "      <td>358500</td>\n",
       "      <td>NEAR BAY</td>\n",
       "    </tr>\n",
       "    <tr>\n",
       "      <th>2</th>\n",
       "      <td>-122.24</td>\n",
       "      <td>37.85</td>\n",
       "      <td>52</td>\n",
       "      <td>1467</td>\n",
       "      <td>190.0</td>\n",
       "      <td>496</td>\n",
       "      <td>177</td>\n",
       "      <td>7.2574</td>\n",
       "      <td>352100</td>\n",
       "      <td>NEAR BAY</td>\n",
       "    </tr>\n",
       "    <tr>\n",
       "      <th>3</th>\n",
       "      <td>-122.25</td>\n",
       "      <td>37.85</td>\n",
       "      <td>52</td>\n",
       "      <td>1274</td>\n",
       "      <td>235.0</td>\n",
       "      <td>558</td>\n",
       "      <td>219</td>\n",
       "      <td>5.6431</td>\n",
       "      <td>341300</td>\n",
       "      <td>NEAR BAY</td>\n",
       "    </tr>\n",
       "    <tr>\n",
       "      <th>4</th>\n",
       "      <td>-122.25</td>\n",
       "      <td>37.85</td>\n",
       "      <td>52</td>\n",
       "      <td>1627</td>\n",
       "      <td>280.0</td>\n",
       "      <td>565</td>\n",
       "      <td>259</td>\n",
       "      <td>3.8462</td>\n",
       "      <td>342200</td>\n",
       "      <td>NEAR BAY</td>\n",
       "    </tr>\n",
       "  </tbody>\n",
       "</table>\n",
       "</div>"
      ],
      "text/plain": [
       "   longitude  latitude  housing_median_age  total_rooms  total_bedrooms  \\\n",
       "0    -122.23     37.88                  41          880           129.0   \n",
       "1    -122.22     37.86                  21         7099          1106.0   \n",
       "2    -122.24     37.85                  52         1467           190.0   \n",
       "3    -122.25     37.85                  52         1274           235.0   \n",
       "4    -122.25     37.85                  52         1627           280.0   \n",
       "\n",
       "   population  households  median_income  median_house_value ocean_proximity  \n",
       "0         322         126         8.3252              452600        NEAR BAY  \n",
       "1        2401        1138         8.3014              358500        NEAR BAY  \n",
       "2         496         177         7.2574              352100        NEAR BAY  \n",
       "3         558         219         5.6431              341300        NEAR BAY  \n",
       "4         565         259         3.8462              342200        NEAR BAY  "
      ]
     },
     "execution_count": 2,
     "metadata": {},
     "output_type": "execute_result"
    }
   ],
   "source": [
    "# importing the required libraries\n",
    "import pandas as pd  # Data manipulation and analysis library\n",
    "import numpy as np  # Library for numerical operations  \n",
    "\n",
    "df = pd.read_csv(r\"C:\\Users\\singh\\Desktop\\housing.csv\")\n",
    "df.head()"
   ]
  },
  {
   "cell_type": "markdown",
   "id": "79654a75",
   "metadata": {},
   "source": []
  }
 ],
 "metadata": {
  "kernelspec": {
   "display_name": "Python 3",
   "language": "python",
   "name": "python3"
  },
  "language_info": {
   "codemirror_mode": {
    "name": "ipython",
    "version": 3
   },
   "file_extension": ".py",
   "mimetype": "text/x-python",
   "name": "python",
   "nbconvert_exporter": "python",
   "pygments_lexer": "ipython3",
   "version": "3.12.3"
  }
 },
 "nbformat": 4,
 "nbformat_minor": 5
}
