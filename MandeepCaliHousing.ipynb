{
 "cells": [
  {
   "cell_type": "markdown",
   "id": "57421d12",
   "metadata": {},
   "source": [
    "# Framing the Problem:\n",
    "\n",
    "This research aims to examine the impact of several factors (**median income, population, and number of households**) on the median house value within a certain dataset. We will construct three distinct univariate linear regression models to ascertain the most effective predictor of house prices and to assess the robustness of these associations.\n",
    "\n",
    "After this analysis it will help to buyers for understanding the housing prices. "
   ]
  },
  {
   "cell_type": "markdown",
   "id": "6ffe612a",
   "metadata": {},
   "source": []
  }
 ],
 "metadata": {
  "language_info": {
   "name": "python"
  }
 },
 "nbformat": 4,
 "nbformat_minor": 5
}
